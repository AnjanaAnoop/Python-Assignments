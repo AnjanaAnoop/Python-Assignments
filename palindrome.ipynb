{
 "cells": [
  {
   "cell_type": "markdown",
   "id": "2383ada4",
   "metadata": {},
   "source": [
    "# Assignment - Check whether a number is a palindrome or not"
   ]
  },
  {
   "cell_type": "code",
   "execution_count": 1,
   "id": "64e7a37b",
   "metadata": {},
   "outputs": [],
   "source": [
    "def is_palindrome(number):\n",
    "    reversed_number = number[::-1]\n",
    "    result = True if number == reversed_number else False\n",
    "    return result"
   ]
  },
  {
   "cell_type": "code",
   "execution_count": 2,
   "id": "e52a0b67",
   "metadata": {},
   "outputs": [
    {
     "name": "stdout",
     "output_type": "stream",
     "text": [
      "The number is a palindrome.\n"
     ]
    }
   ],
   "source": [
    "number = input(\"Enter the number: \").strip()\n",
    "result = is_palindrome(number)\n",
    "if result :\n",
    "    print(\"The number is a palindrome.\")\n",
    "else :\n",
    "    print(\"The number is not a palindrome.\")"
   ]
  }
 ],
 "metadata": {
  "kernelspec": {
   "display_name": "base",
   "language": "python",
   "name": "python3"
  },
  "language_info": {
   "codemirror_mode": {
    "name": "ipython",
    "version": 3
   },
   "file_extension": ".py",
   "mimetype": "text/x-python",
   "name": "python",
   "nbconvert_exporter": "python",
   "pygments_lexer": "ipython3",
   "version": "3.12.9"
  }
 },
 "nbformat": 4,
 "nbformat_minor": 5
}
