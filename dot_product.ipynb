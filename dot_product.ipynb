{
 "cells": [
  {
   "cell_type": "markdown",
   "id": "2fd6995a",
   "metadata": {},
   "source": [
    "# Assignment : Dot Product"
   ]
  },
  {
   "cell_type": "code",
   "execution_count": 2,
   "id": "d1b76159",
   "metadata": {},
   "outputs": [],
   "source": [
    "def dot_product(list1,list2):\n",
    "    dot_product = 0\n",
    "    for i in range (0,len(list1)):\n",
    "        dot_product += list1[i]*list2[i]\n",
    "    return dot_product"
   ]
  },
  {
   "cell_type": "code",
   "execution_count": 3,
   "id": "00d84344",
   "metadata": {},
   "outputs": [
    {
     "data": {
      "text/plain": [
       "11"
      ]
     },
     "execution_count": 3,
     "metadata": {},
     "output_type": "execute_result"
    }
   ],
   "source": [
    "import ast\n",
    "list1 = ast.literal_eval(input(\"Enter the first list: \"))\n",
    "list2 = ast.literal_eval(input(\"Enter the second list of same length: \"))\n",
    "dot_product(list1,list2)"
   ]
  }
 ],
 "metadata": {
  "kernelspec": {
   "display_name": "base",
   "language": "python",
   "name": "python3"
  },
  "language_info": {
   "codemirror_mode": {
    "name": "ipython",
    "version": 3
   },
   "file_extension": ".py",
   "mimetype": "text/x-python",
   "name": "python",
   "nbconvert_exporter": "python",
   "pygments_lexer": "ipython3",
   "version": "3.12.9"
  }
 },
 "nbformat": 4,
 "nbformat_minor": 5
}
