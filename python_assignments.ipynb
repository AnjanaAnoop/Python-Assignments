{
 "cells": [
  {
   "cell_type": "markdown",
   "id": "8830306f",
   "metadata": {},
   "source": [
    "#### Assignment 1\n",
    "#### Create a student data dictionary with details of 10 students. Provided a list of id of defaulters, print the names of non-defaulters."
   ]
  },
  {
   "cell_type": "code",
   "execution_count": 3,
   "id": "3708a947",
   "metadata": {},
   "outputs": [],
   "source": [
    "# Student dictionary\n",
    "student_data = {\n",
    " 1 : 'Ram',\n",
    " 2 : 'Raj',\n",
    " 3 : 'Anna',\n",
    " 4 : 'Elsa',\n",
    " 5 : 'Bell',\n",
    " 6 : 'Moana',\n",
    " 7 : 'Joy',\n",
    " 8 : 'Sam',\n",
    " 9 : 'Ben',\n",
    " 10 : 'John'\n",
    "}"
   ]
  },
  {
   "cell_type": "code",
   "execution_count": 4,
   "id": "9def192e",
   "metadata": {},
   "outputs": [],
   "source": [
    "defaulters = [1,4,6,10]"
   ]
  },
  {
   "cell_type": "code",
   "execution_count": 6,
   "id": "6a216fb2",
   "metadata": {},
   "outputs": [
    {
     "name": "stdout",
     "output_type": "stream",
     "text": [
      "The non-defaulters are below: \n",
      "Raj\n",
      "Anna\n",
      "Bell\n",
      "Joy\n",
      "Sam\n",
      "Ben\n"
     ]
    }
   ],
   "source": [
    "print(\"The non-defaulters are below: \")\n",
    "for key,value in student_data.items():\n",
    "    if key not in defaulters:\n",
    "        print(value)"
   ]
  },
  {
   "cell_type": "markdown",
   "id": "437e7b2a",
   "metadata": {},
   "source": [
    "#### Assignment 2\n",
    "##### Print the pattern"
   ]
  },
  {
   "cell_type": "code",
   "execution_count": 11,
   "id": "ed5a66f3",
   "metadata": {},
   "outputs": [
    {
     "name": "stdout",
     "output_type": "stream",
     "text": [
      "    *    \n",
      "   ***   \n",
      "  *****  \n",
      " ******* \n"
     ]
    }
   ],
   "source": [
    "n = int(input(\"Number of lines :\"))\n",
    "for i in range(1,n+1):\n",
    "    print(\" \"*(n-i),\"*\"*((2*i) - 1),\" \"*(n-i))"
   ]
  },
  {
   "cell_type": "markdown",
   "id": "183de999",
   "metadata": {},
   "source": [
    "#### Assignment 3\n",
    "##### Print the pattern"
   ]
  },
  {
   "cell_type": "code",
   "execution_count": 14,
   "id": "2ec1e8e9",
   "metadata": {},
   "outputs": [
    {
     "name": "stdout",
     "output_type": "stream",
     "text": [
      "    *---\n",
      "   ***--\n",
      "  *****-\n",
      " *******\n"
     ]
    }
   ],
   "source": [
    "n = int(input(\"Number of lines :\"))\n",
    "for i in range(1,n+1):\n",
    "    print(\" \"*(n-i),\"*\"*((2*i) - 1),end=\"\")\n",
    "    print(\"-\"*(n-i))"
   ]
  }
 ],
 "metadata": {
  "kernelspec": {
   "display_name": "base",
   "language": "python",
   "name": "python3"
  },
  "language_info": {
   "codemirror_mode": {
    "name": "ipython",
    "version": 3
   },
   "file_extension": ".py",
   "mimetype": "text/x-python",
   "name": "python",
   "nbconvert_exporter": "python",
   "pygments_lexer": "ipython3",
   "version": "3.12.9"
  }
 },
 "nbformat": 4,
 "nbformat_minor": 5
}
