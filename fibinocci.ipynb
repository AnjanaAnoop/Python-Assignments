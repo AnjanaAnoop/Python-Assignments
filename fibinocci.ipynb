{
 "cells": [
  {
   "cell_type": "markdown",
   "id": "d71aeb5c",
   "metadata": {},
   "source": [
    "# Assignment - Fibinocci Series"
   ]
  },
  {
   "cell_type": "code",
   "execution_count": 1,
   "id": "328b8d13",
   "metadata": {},
   "outputs": [],
   "source": [
    "def fibinocci_series(n):\n",
    "    fibinocci_list = []\n",
    "    if n == 1:\n",
    "        fibinocci_list = [0]\n",
    "    elif n == 2:\n",
    "        fibinocci_list = [0,1]\n",
    "    else:\n",
    "        fibinocci_list = [0,1]\n",
    "        for i in range(2,n):\n",
    "            fibinocci_list.append(fibinocci_list[i-1] + fibinocci_list[i-2])\n",
    "    return fibinocci_list"
   ]
  },
  {
   "cell_type": "code",
   "execution_count": 2,
   "id": "9f30b6a5",
   "metadata": {},
   "outputs": [
    {
     "data": {
      "text/plain": [
       "[0, 1, 1, 2, 3, 5, 8, 13, 21, 34]"
      ]
     },
     "execution_count": 2,
     "metadata": {},
     "output_type": "execute_result"
    }
   ],
   "source": [
    "n = int(input(\"Enter n: \"))\n",
    "fibinocci_series(n)"
   ]
  }
 ],
 "metadata": {
  "kernelspec": {
   "display_name": "base",
   "language": "python",
   "name": "python3"
  },
  "language_info": {
   "codemirror_mode": {
    "name": "ipython",
    "version": 3
   },
   "file_extension": ".py",
   "mimetype": "text/x-python",
   "name": "python",
   "nbconvert_exporter": "python",
   "pygments_lexer": "ipython3",
   "version": "3.12.9"
  }
 },
 "nbformat": 4,
 "nbformat_minor": 5
}
