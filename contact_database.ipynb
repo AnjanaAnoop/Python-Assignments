{
 "cells": [
  {
   "cell_type": "markdown",
   "id": "29800504",
   "metadata": {},
   "source": [
    "# Assignment 1 : Contact Database"
   ]
  },
  {
   "cell_type": "code",
   "execution_count": 3,
   "id": "d91d4dae",
   "metadata": {},
   "outputs": [],
   "source": [
    "id = 1"
   ]
  },
  {
   "cell_type": "code",
   "execution_count": 6,
   "id": "fd3d57c7",
   "metadata": {},
   "outputs": [],
   "source": [
    "# Assignment 1\n",
    "name = input(\"Enter name :\")\n",
    "phone = int(input(\"Enter phone number: \"))\n",
    "email = input(\"Enter email id: \")\n",
    "group = input(\"Enter group (home/office): \")\n",
    "with open(\"./database.txt\",\"a+\") as f:\n",
    "    f.write(f\"{id},{name},{phone},{email},{group},\\n\")\n",
    "id += 1"
   ]
  },
  {
   "cell_type": "code",
   "execution_count": 7,
   "id": "34836119",
   "metadata": {},
   "outputs": [],
   "source": [
    "contact_details = {}"
   ]
  },
  {
   "cell_type": "code",
   "execution_count": 8,
   "id": "d782c837",
   "metadata": {},
   "outputs": [],
   "source": [
    "def populate_data(data):\n",
    "    data = data.split(',')\n",
    "    contact_details[data[0]] = {}\n",
    "    contact_details[data[0]]['name'] = data[1]\n",
    "    contact_details[data[0]]['phone'] = data[2]\n",
    "    contact_details[data[0]]['email'] = data[3]\n",
    "    contact_details[data[0]]['group'] = data[4]"
   ]
  },
  {
   "cell_type": "code",
   "execution_count": 9,
   "id": "aae811e9",
   "metadata": {},
   "outputs": [
    {
     "name": "stdout",
     "output_type": "stream",
     "text": [
      "{'1': {'name': 'anjana', 'phone': '999999', 'email': 'a@gmail.com', 'group': 'home'}, '2': {'name': 'advika', 'phone': '888888', 'email': 'ad@gmail.com', 'group': 'office'}, '3': {'name': 'anoop', 'phone': '333333', 'email': 's@gmail.com', 'group': 'home'}}\n"
     ]
    }
   ],
   "source": [
    "with open(\"./database.txt\",\"r+\") as f:\n",
    "    content = f.readlines()\n",
    "    for c in content:\n",
    "        populate_data(c)\n",
    "print(contact_details)"
   ]
  },
  {
   "cell_type": "code",
   "execution_count": 10,
   "id": "35c1564a",
   "metadata": {},
   "outputs": [],
   "source": [
    "def search_name(name):\n",
    "    for i in contact_details.values():\n",
    "        if name.lower() in i['name'].lower():\n",
    "            print(f\"{i['name']},{i['email']},{i['phone']},{i['group']}\")"
   ]
  },
  {
   "cell_type": "code",
   "execution_count": 11,
   "id": "45d0f27a",
   "metadata": {},
   "outputs": [
    {
     "name": "stdout",
     "output_type": "stream",
     "text": [
      "anjana,a@gmail.com,999999,home\n",
      "anoop,s@gmail.com,333333,home\n"
     ]
    }
   ],
   "source": [
    "name = input(\"Enter the name to search: \")\n",
    "search_name(name)"
   ]
  },
  {
   "cell_type": "code",
   "execution_count": 12,
   "id": "82019468",
   "metadata": {},
   "outputs": [],
   "source": [
    "def search_group(group):\n",
    "    for i in contact_details.values():\n",
    "        if group.lower() in i['group'].lower():\n",
    "            print(f\"{i['name']},{i['email']},{i['phone']},{i['group']}\")"
   ]
  },
  {
   "cell_type": "code",
   "execution_count": 13,
   "id": "72ed6c32",
   "metadata": {},
   "outputs": [
    {
     "name": "stdout",
     "output_type": "stream",
     "text": [
      "advika,ad@gmail.com,888888,office\n"
     ]
    }
   ],
   "source": [
    "group = input(\"Enter the group to search: \")\n",
    "search_group(group)"
   ]
  },
  {
   "cell_type": "code",
   "execution_count": 14,
   "id": "952d7e64",
   "metadata": {},
   "outputs": [],
   "source": [
    "def delete_data(phone):\n",
    "    key_to_delete = None\n",
    "    for key,value in contact_details.items():\n",
    "        if phone == value['phone']:\n",
    "            key_to_delete = key\n",
    "            break\n",
    "    if key_to_delete:\n",
    "        del contact_details[key_to_delete]\n",
    "        with open(\"./database.txt\",\"w+\") as f:\n",
    "            for key,value in contact_details.items():\n",
    "                new_data = f\"{key},{value['name']},{value['phone']},{value['email']},{value['group']}\\n\"\n",
    "                f.write(new_data)\n",
    "\n"
   ]
  },
  {
   "cell_type": "code",
   "execution_count": 15,
   "id": "5ae77cb2",
   "metadata": {},
   "outputs": [],
   "source": [
    "phone = input(\"Enter the phone number of the contact to delete: \")\n",
    "delete_data(phone)"
   ]
  }
 ],
 "metadata": {
  "kernelspec": {
   "display_name": "base",
   "language": "python",
   "name": "python3"
  },
  "language_info": {
   "codemirror_mode": {
    "name": "ipython",
    "version": 3
   },
   "file_extension": ".py",
   "mimetype": "text/x-python",
   "name": "python",
   "nbconvert_exporter": "python",
   "pygments_lexer": "ipython3",
   "version": "3.12.9"
  }
 },
 "nbformat": 4,
 "nbformat_minor": 5
}
